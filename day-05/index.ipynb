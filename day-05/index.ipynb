{
 "cells": [
  {
   "cell_type": "markdown",
   "metadata": {},
   "source": [
    "# For Loop\n",
    "\n",
    "```python\n",
    "for item in list_of_items:\n",
    "  # Do something to each time\n",
    "```\n",
    "\n",
    "In Python, a `for` loop is used to iterate over a sequence (such as a list, tuple, string, or range) and execute a block of code for each item in that sequence. Here's a simple example:\n",
    "\n",
    "```python\n",
    "# Example of a for loop in Python\n",
    "fruits = [\"apple\", \"banana\", \"cherry\"]\n",
    "for fruit in fruits:\n",
    "    print(fruit)\n",
    "```\n",
    "\n",
    "### How It Works:\n",
    "1. **Initialization**: The loop initializes the variable `fruit` with the first item in the sequence (`fruits` list).\n",
    "2. **Execution**: The code block inside the loop (`print(fruit)`) is executed for each item in the sequence.\n",
    "3. **Iteration**: The variable `fruit` is then updated to the next item in the sequence.\n",
    "4. **Completion**: The loop continues until all items in the sequence have been processed.\n",
    "\n",
    "### Using `range()` in a `for` Loop:\n",
    "The `range()` function generates a sequence of numbers, which is useful for iterating a specific number of times.\n",
    "\n",
    "```python\n",
    "# Example using range() in a for loop\n",
    "for i in range(5):\n",
    "    print(i)\n",
    "```\n",
    "\n",
    "This will output the numbers 0 to 4.\n",
    "\n",
    "### Nested `for` Loops:\n",
    "You can also have nested `for` loops, where one loop is inside another loop.\n",
    "\n",
    "```python\n",
    "# Example of nested for loops\n",
    "for i in range(3):\n",
    "    for j in range(2):\n",
    "        print(f\"i: {i}, j: {j}\")\n",
    "```\n",
    "\n",
    "### Breaking Out of a `for` Loop:\n",
    "You can use the `break` statement to exit the loop early.\n",
    "\n",
    "```python\n",
    "# Example of using break\n",
    "for i in range(5):\n",
    "    if i == 3:\n",
    "        break\n",
    "    print(i)\n",
    "```\n",
    "\n",
    "### Skipping Iterations:\n",
    "The `continue` statement skips the current iteration and moves to the next one.\n",
    "\n",
    "```python\n",
    "# Example of using continue\n",
    "for i in range(5):\n",
    "    if i == 3:\n",
    "        continue\n",
    "    print(i)\n",
    "```\n"
   ]
  },
  {
   "cell_type": "code",
   "execution_count": 14,
   "metadata": {},
   "outputs": [
    {
     "name": "stdout",
     "output_type": "stream",
     "text": [
      "Apple\n",
      "Banana\n",
      "Pear\n"
     ]
    }
   ],
   "source": [
    "fruits = [\"Apple\", \"Banana\", \"Pear\"]\n",
    "\n",
    "for i in fruits:\n",
    "  print(i)"
   ]
  }
 ],
 "metadata": {
  "kernelspec": {
   "display_name": "Python 3",
   "language": "python",
   "name": "python3"
  },
  "language_info": {
   "codemirror_mode": {
    "name": "ipython",
    "version": 3
   },
   "file_extension": ".py",
   "mimetype": "text/x-python",
   "name": "python",
   "nbconvert_exporter": "python",
   "pygments_lexer": "ipython3",
   "version": "3.12.4"
  }
 },
 "nbformat": 4,
 "nbformat_minor": 2
}
